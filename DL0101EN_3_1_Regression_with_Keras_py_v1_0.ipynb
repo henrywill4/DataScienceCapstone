{
  "nbformat": 4,
  "nbformat_minor": 0,
  "metadata": {
    "kernelspec": {
      "display_name": "Python",
      "language": "python",
      "name": "conda-env-python-py"
    },
    "language_info": {
      "codemirror_mode": {
        "name": "ipython",
        "version": 3
      },
      "file_extension": ".py",
      "mimetype": "text/x-python",
      "name": "python",
      "nbconvert_exporter": "python",
      "pygments_lexer": "ipython3",
      "version": "3.6.7"
    },
    "colab": {
      "name": "DL0101EN-3-1-Regression-with-Keras-py-v1.0.ipynb",
      "provenance": [],
      "include_colab_link": true
    }
  },
  "cells": [
    {
      "cell_type": "markdown",
      "metadata": {
        "id": "view-in-github",
        "colab_type": "text"
      },
      "source": [
        "<a href=\"https://colab.research.google.com/github/henrywill4/DataScienceCapstone/blob/main/DL0101EN_3_1_Regression_with_Keras_py_v1_0.ipynb\" target=\"_parent\"><img src=\"https://colab.research.google.com/assets/colab-badge.svg\" alt=\"Open In Colab\"/></a>"
      ]
    },
    {
      "cell_type": "markdown",
      "metadata": {
        "button": false,
        "deletable": true,
        "new_sheet": false,
        "run_control": {
          "read_only": false
        },
        "id": "DMF0nntqIrTB"
      },
      "source": [
        "<a href=\"https://cognitiveclass.ai\"><img src = \"https://s3-api.us-geo.objectstorage.softlayer.net/cf-courses-data/CognitiveClass/Logos/organization_logo/organization_logo.png\" width = 400> </a>\n",
        "\n",
        "<h1 align=center><font size = 5>Regression Models with Keras</font></h1>\n"
      ]
    },
    {
      "cell_type": "markdown",
      "metadata": {
        "button": false,
        "deletable": true,
        "new_sheet": false,
        "run_control": {
          "read_only": false
        },
        "id": "_Rs8sFKWIrTI"
      },
      "source": [
        "## Introduction\n"
      ]
    },
    {
      "cell_type": "markdown",
      "metadata": {
        "button": false,
        "deletable": true,
        "new_sheet": false,
        "run_control": {
          "read_only": false
        },
        "id": "y29Y4JvcIrTK"
      },
      "source": [
        "As we discussed in the videos, despite the popularity of more powerful libraries such as PyToch and TensorFlow, they are not easy to use and have a steep learning curve. So, for people who are just starting to learn deep learning, there is no better library to use other than the Keras library. \n",
        "\n",
        "Keras is a high-level API for building deep learning models. It has gained favor for its ease of use and syntactic simplicity facilitating fast development. As you will see in this lab and the other labs in this course, building a very complex deep learning network can be achieved with Keras with only few lines of code. You will appreciate Keras even more, once you learn how to build deep models using PyTorch and TensorFlow in the other courses.\n",
        "\n",
        "So, in this lab, you will learn how to use the Keras library to build a regression model.\n"
      ]
    },
    {
      "cell_type": "markdown",
      "metadata": {
        "id": "jr581oI0IrTL"
      },
      "source": [
        "<h2>Regression Models with Keras</h2>\n",
        "\n",
        "<h3>Objective for this Notebook<h3>    \n",
        "<h5> 1. How to use the Keras library to build a regression model.</h5>\n",
        "<h5> 2. Download and Clean dataset </h5>\n",
        "<h5> 3. Build a Neural Network </h5>\n",
        "<h5> 4. Train and Test the Network. </h5>     \n"
      ]
    },
    {
      "cell_type": "markdown",
      "metadata": {
        "button": false,
        "deletable": true,
        "new_sheet": false,
        "run_control": {
          "read_only": false
        },
        "id": "qHQIsOhqIrTL"
      },
      "source": [
        "## Table of Contents\n",
        "\n",
        "<div class=\"alert alert-block alert-info\" style=\"margin-top: 20px\">\n",
        "\n",
        "<font size = 3>\n",
        "    \n",
        "1. <a href=\"#item31\">Download and Clean Dataset</a>  \n",
        "2. <a href=\"#item32\">Import Keras</a>  \n",
        "3. <a href=\"#item33\">Build a Neural Network</a>  \n",
        "4. <a href=\"#item34\">Train and Test the Network</a>  \n",
        "\n",
        "</font>\n",
        "</div>\n"
      ]
    },
    {
      "cell_type": "markdown",
      "metadata": {
        "button": false,
        "deletable": true,
        "new_sheet": false,
        "run_control": {
          "read_only": false
        },
        "id": "jxDG381UIrTM"
      },
      "source": [
        "<a id=\"item31\"></a>\n"
      ]
    },
    {
      "cell_type": "markdown",
      "metadata": {
        "button": false,
        "deletable": true,
        "new_sheet": false,
        "run_control": {
          "read_only": false
        },
        "id": "y1m0PDG0IrTN"
      },
      "source": [
        "## Download and Clean Dataset\n"
      ]
    },
    {
      "cell_type": "markdown",
      "metadata": {
        "button": false,
        "deletable": true,
        "new_sheet": false,
        "run_control": {
          "read_only": false
        },
        "id": "yrWBSJ9tIrTN"
      },
      "source": [
        "Let's start by importing the <em>pandas</em> and the Numpy libraries.\n"
      ]
    },
    {
      "cell_type": "code",
      "metadata": {
        "button": false,
        "deletable": true,
        "new_sheet": false,
        "run_control": {
          "read_only": false
        },
        "id": "_k-fXHJwIrTN"
      },
      "source": [
        "import pandas as pd\n",
        "import numpy as np"
      ],
      "execution_count": 1,
      "outputs": []
    },
    {
      "cell_type": "markdown",
      "metadata": {
        "button": false,
        "deletable": true,
        "new_sheet": false,
        "run_control": {
          "read_only": false
        },
        "id": "v7MSgXq4IrTO"
      },
      "source": [
        "We will be playing around with the same dataset that we used in the videos.\n",
        "\n",
        "<strong>The dataset is about the compressive strength of different samples of concrete based on the volumes of the different ingredients that were used to make them. Ingredients include:</strong>\n",
        "\n",
        "<strong>1. Cement</strong>\n",
        "\n",
        "<strong>2. Blast Furnace Slag</strong>\n",
        "\n",
        "<strong>3. Fly Ash</strong>\n",
        "\n",
        "<strong>4. Water</strong>\n",
        "\n",
        "<strong>5. Superplasticizer</strong>\n",
        "\n",
        "<strong>6. Coarse Aggregate</strong>\n",
        "\n",
        "<strong>7. Fine Aggregate</strong>\n"
      ]
    },
    {
      "cell_type": "markdown",
      "metadata": {
        "button": false,
        "deletable": true,
        "new_sheet": false,
        "run_control": {
          "read_only": false
        },
        "id": "BAwGTkhfIrTO"
      },
      "source": [
        "Let's download the data and read it into a <em>pandas</em> dataframe.\n"
      ]
    },
    {
      "cell_type": "code",
      "metadata": {
        "button": false,
        "deletable": true,
        "new_sheet": false,
        "run_control": {
          "read_only": false
        },
        "colab": {
          "base_uri": "https://localhost:8080/",
          "height": 204
        },
        "id": "Ta9DpRb1IrTP",
        "outputId": "6adbe3d3-2df6-4ee6-a363-e99c0655a3fe"
      },
      "source": [
        "concrete_data = pd.read_csv('https://s3-api.us-geo.objectstorage.softlayer.net/cf-courses-data/CognitiveClass/DL0101EN/labs/data/concrete_data.csv')\n",
        "concrete_data.head()"
      ],
      "execution_count": 2,
      "outputs": [
        {
          "output_type": "execute_result",
          "data": {
            "text/html": [
              "<div>\n",
              "<style scoped>\n",
              "    .dataframe tbody tr th:only-of-type {\n",
              "        vertical-align: middle;\n",
              "    }\n",
              "\n",
              "    .dataframe tbody tr th {\n",
              "        vertical-align: top;\n",
              "    }\n",
              "\n",
              "    .dataframe thead th {\n",
              "        text-align: right;\n",
              "    }\n",
              "</style>\n",
              "<table border=\"1\" class=\"dataframe\">\n",
              "  <thead>\n",
              "    <tr style=\"text-align: right;\">\n",
              "      <th></th>\n",
              "      <th>Cement</th>\n",
              "      <th>Blast Furnace Slag</th>\n",
              "      <th>Fly Ash</th>\n",
              "      <th>Water</th>\n",
              "      <th>Superplasticizer</th>\n",
              "      <th>Coarse Aggregate</th>\n",
              "      <th>Fine Aggregate</th>\n",
              "      <th>Age</th>\n",
              "      <th>Strength</th>\n",
              "    </tr>\n",
              "  </thead>\n",
              "  <tbody>\n",
              "    <tr>\n",
              "      <th>0</th>\n",
              "      <td>540.0</td>\n",
              "      <td>0.0</td>\n",
              "      <td>0.0</td>\n",
              "      <td>162.0</td>\n",
              "      <td>2.5</td>\n",
              "      <td>1040.0</td>\n",
              "      <td>676.0</td>\n",
              "      <td>28</td>\n",
              "      <td>79.99</td>\n",
              "    </tr>\n",
              "    <tr>\n",
              "      <th>1</th>\n",
              "      <td>540.0</td>\n",
              "      <td>0.0</td>\n",
              "      <td>0.0</td>\n",
              "      <td>162.0</td>\n",
              "      <td>2.5</td>\n",
              "      <td>1055.0</td>\n",
              "      <td>676.0</td>\n",
              "      <td>28</td>\n",
              "      <td>61.89</td>\n",
              "    </tr>\n",
              "    <tr>\n",
              "      <th>2</th>\n",
              "      <td>332.5</td>\n",
              "      <td>142.5</td>\n",
              "      <td>0.0</td>\n",
              "      <td>228.0</td>\n",
              "      <td>0.0</td>\n",
              "      <td>932.0</td>\n",
              "      <td>594.0</td>\n",
              "      <td>270</td>\n",
              "      <td>40.27</td>\n",
              "    </tr>\n",
              "    <tr>\n",
              "      <th>3</th>\n",
              "      <td>332.5</td>\n",
              "      <td>142.5</td>\n",
              "      <td>0.0</td>\n",
              "      <td>228.0</td>\n",
              "      <td>0.0</td>\n",
              "      <td>932.0</td>\n",
              "      <td>594.0</td>\n",
              "      <td>365</td>\n",
              "      <td>41.05</td>\n",
              "    </tr>\n",
              "    <tr>\n",
              "      <th>4</th>\n",
              "      <td>198.6</td>\n",
              "      <td>132.4</td>\n",
              "      <td>0.0</td>\n",
              "      <td>192.0</td>\n",
              "      <td>0.0</td>\n",
              "      <td>978.4</td>\n",
              "      <td>825.5</td>\n",
              "      <td>360</td>\n",
              "      <td>44.30</td>\n",
              "    </tr>\n",
              "  </tbody>\n",
              "</table>\n",
              "</div>"
            ],
            "text/plain": [
              "   Cement  Blast Furnace Slag  Fly Ash  ...  Fine Aggregate  Age  Strength\n",
              "0   540.0                 0.0      0.0  ...           676.0   28     79.99\n",
              "1   540.0                 0.0      0.0  ...           676.0   28     61.89\n",
              "2   332.5               142.5      0.0  ...           594.0  270     40.27\n",
              "3   332.5               142.5      0.0  ...           594.0  365     41.05\n",
              "4   198.6               132.4      0.0  ...           825.5  360     44.30\n",
              "\n",
              "[5 rows x 9 columns]"
            ]
          },
          "metadata": {},
          "execution_count": 2
        }
      ]
    },
    {
      "cell_type": "markdown",
      "metadata": {
        "button": false,
        "deletable": true,
        "new_sheet": false,
        "run_control": {
          "read_only": false
        },
        "id": "N8n3buuSIrTP"
      },
      "source": [
        "So the first concrete sample has 540 cubic meter of cement, 0 cubic meter of blast furnace slag, 0 cubic meter of fly ash, 162 cubic meter of water, 2.5 cubic meter of superplaticizer, 1040 cubic meter of coarse aggregate, 676 cubic meter of fine aggregate. Such a concrete mix which is 28 days old, has a compressive strength of 79.99 MPa. \n"
      ]
    },
    {
      "cell_type": "markdown",
      "metadata": {
        "button": false,
        "deletable": true,
        "new_sheet": false,
        "run_control": {
          "read_only": false
        },
        "id": "Tj6vYFXLIrTP"
      },
      "source": [
        "#### Let's check how many data points we have.\n"
      ]
    },
    {
      "cell_type": "code",
      "metadata": {
        "button": false,
        "deletable": true,
        "new_sheet": false,
        "run_control": {
          "read_only": false
        },
        "colab": {
          "base_uri": "https://localhost:8080/"
        },
        "id": "bSsTvvR4IrTP",
        "outputId": "68f857b6-b413-4e1f-e26b-3381fd95e257"
      },
      "source": [
        "concrete_data.shape"
      ],
      "execution_count": 3,
      "outputs": [
        {
          "output_type": "execute_result",
          "data": {
            "text/plain": [
              "(1030, 9)"
            ]
          },
          "metadata": {},
          "execution_count": 3
        }
      ]
    },
    {
      "cell_type": "markdown",
      "metadata": {
        "button": false,
        "deletable": true,
        "new_sheet": false,
        "run_control": {
          "read_only": false
        },
        "id": "SBjJyiDIIrTQ"
      },
      "source": [
        "So, there are approximately 1000 samples to train our model on. Because of the few samples, we have to be careful not to overfit the training data.\n"
      ]
    },
    {
      "cell_type": "markdown",
      "metadata": {
        "button": false,
        "deletable": true,
        "new_sheet": false,
        "run_control": {
          "read_only": false
        },
        "id": "gXpQ9CTMIrTQ"
      },
      "source": [
        "Let's check the dataset for any missing values.\n"
      ]
    },
    {
      "cell_type": "code",
      "metadata": {
        "button": false,
        "deletable": true,
        "new_sheet": false,
        "run_control": {
          "read_only": false
        },
        "id": "f5BfDFX8IrTQ"
      },
      "source": [
        "concrete_data.describe()"
      ],
      "execution_count": null,
      "outputs": []
    },
    {
      "cell_type": "code",
      "metadata": {
        "button": false,
        "deletable": true,
        "new_sheet": false,
        "run_control": {
          "read_only": false
        },
        "colab": {
          "base_uri": "https://localhost:8080/"
        },
        "id": "zghx4ZexIrTQ",
        "outputId": "e4f27b1c-9547-43b5-bd29-bc531a8b8aa6"
      },
      "source": [
        "concrete_data.isnull().sum()"
      ],
      "execution_count": 5,
      "outputs": [
        {
          "output_type": "execute_result",
          "data": {
            "text/plain": [
              "Cement                0\n",
              "Blast Furnace Slag    0\n",
              "Fly Ash               0\n",
              "Water                 0\n",
              "Superplasticizer      0\n",
              "Coarse Aggregate      0\n",
              "Fine Aggregate        0\n",
              "Age                   0\n",
              "Strength              0\n",
              "dtype: int64"
            ]
          },
          "metadata": {},
          "execution_count": 5
        }
      ]
    },
    {
      "cell_type": "markdown",
      "metadata": {
        "button": false,
        "deletable": true,
        "new_sheet": false,
        "run_control": {
          "read_only": false
        },
        "id": "1R3RjBBHIrTQ"
      },
      "source": [
        "The data looks very clean and is ready to be used to build our model.\n"
      ]
    },
    {
      "cell_type": "markdown",
      "metadata": {
        "button": false,
        "deletable": true,
        "new_sheet": false,
        "run_control": {
          "read_only": false
        },
        "id": "aR12vh5RIrTR"
      },
      "source": [
        "#### Split data into predictors and target\n"
      ]
    },
    {
      "cell_type": "markdown",
      "metadata": {
        "id": "FZF5ot4vIrTR"
      },
      "source": [
        "The target variable in this problem is the concrete sample strength. Therefore, our predictors will be all the other columns.\n"
      ]
    },
    {
      "cell_type": "code",
      "metadata": {
        "button": false,
        "deletable": true,
        "new_sheet": false,
        "run_control": {
          "read_only": false
        },
        "id": "N8iqaAAyIrTR"
      },
      "source": [
        "concrete_data_columns = concrete_data.columns\n",
        "\n",
        "predictors = concrete_data[concrete_data_columns[concrete_data_columns != 'Strength']] # all columns except Strength\n",
        "target = concrete_data['Strength'] # Strength column"
      ],
      "execution_count": 6,
      "outputs": []
    },
    {
      "cell_type": "markdown",
      "metadata": {
        "button": false,
        "deletable": true,
        "new_sheet": false,
        "run_control": {
          "read_only": false
        },
        "id": "bsskH0TaIrTR"
      },
      "source": [
        "<a id=\"item2\"></a>\n"
      ]
    },
    {
      "cell_type": "markdown",
      "metadata": {
        "button": false,
        "deletable": true,
        "new_sheet": false,
        "run_control": {
          "read_only": false
        },
        "id": "1nuaN_sUIrTS"
      },
      "source": [
        "Let's do a quick sanity check of the predictors and the target dataframes.\n"
      ]
    },
    {
      "cell_type": "code",
      "metadata": {
        "button": false,
        "deletable": true,
        "new_sheet": false,
        "run_control": {
          "read_only": false
        },
        "colab": {
          "base_uri": "https://localhost:8080/",
          "height": 204
        },
        "id": "vaiTPJ0YIrTS",
        "outputId": "14679774-3b43-4707-eb9b-2622204621d8"
      },
      "source": [
        "predictors.head()"
      ],
      "execution_count": 7,
      "outputs": [
        {
          "output_type": "execute_result",
          "data": {
            "text/html": [
              "<div>\n",
              "<style scoped>\n",
              "    .dataframe tbody tr th:only-of-type {\n",
              "        vertical-align: middle;\n",
              "    }\n",
              "\n",
              "    .dataframe tbody tr th {\n",
              "        vertical-align: top;\n",
              "    }\n",
              "\n",
              "    .dataframe thead th {\n",
              "        text-align: right;\n",
              "    }\n",
              "</style>\n",
              "<table border=\"1\" class=\"dataframe\">\n",
              "  <thead>\n",
              "    <tr style=\"text-align: right;\">\n",
              "      <th></th>\n",
              "      <th>Cement</th>\n",
              "      <th>Blast Furnace Slag</th>\n",
              "      <th>Fly Ash</th>\n",
              "      <th>Water</th>\n",
              "      <th>Superplasticizer</th>\n",
              "      <th>Coarse Aggregate</th>\n",
              "      <th>Fine Aggregate</th>\n",
              "      <th>Age</th>\n",
              "    </tr>\n",
              "  </thead>\n",
              "  <tbody>\n",
              "    <tr>\n",
              "      <th>0</th>\n",
              "      <td>540.0</td>\n",
              "      <td>0.0</td>\n",
              "      <td>0.0</td>\n",
              "      <td>162.0</td>\n",
              "      <td>2.5</td>\n",
              "      <td>1040.0</td>\n",
              "      <td>676.0</td>\n",
              "      <td>28</td>\n",
              "    </tr>\n",
              "    <tr>\n",
              "      <th>1</th>\n",
              "      <td>540.0</td>\n",
              "      <td>0.0</td>\n",
              "      <td>0.0</td>\n",
              "      <td>162.0</td>\n",
              "      <td>2.5</td>\n",
              "      <td>1055.0</td>\n",
              "      <td>676.0</td>\n",
              "      <td>28</td>\n",
              "    </tr>\n",
              "    <tr>\n",
              "      <th>2</th>\n",
              "      <td>332.5</td>\n",
              "      <td>142.5</td>\n",
              "      <td>0.0</td>\n",
              "      <td>228.0</td>\n",
              "      <td>0.0</td>\n",
              "      <td>932.0</td>\n",
              "      <td>594.0</td>\n",
              "      <td>270</td>\n",
              "    </tr>\n",
              "    <tr>\n",
              "      <th>3</th>\n",
              "      <td>332.5</td>\n",
              "      <td>142.5</td>\n",
              "      <td>0.0</td>\n",
              "      <td>228.0</td>\n",
              "      <td>0.0</td>\n",
              "      <td>932.0</td>\n",
              "      <td>594.0</td>\n",
              "      <td>365</td>\n",
              "    </tr>\n",
              "    <tr>\n",
              "      <th>4</th>\n",
              "      <td>198.6</td>\n",
              "      <td>132.4</td>\n",
              "      <td>0.0</td>\n",
              "      <td>192.0</td>\n",
              "      <td>0.0</td>\n",
              "      <td>978.4</td>\n",
              "      <td>825.5</td>\n",
              "      <td>360</td>\n",
              "    </tr>\n",
              "  </tbody>\n",
              "</table>\n",
              "</div>"
            ],
            "text/plain": [
              "   Cement  Blast Furnace Slag  Fly Ash  ...  Coarse Aggregate  Fine Aggregate  Age\n",
              "0   540.0                 0.0      0.0  ...            1040.0           676.0   28\n",
              "1   540.0                 0.0      0.0  ...            1055.0           676.0   28\n",
              "2   332.5               142.5      0.0  ...             932.0           594.0  270\n",
              "3   332.5               142.5      0.0  ...             932.0           594.0  365\n",
              "4   198.6               132.4      0.0  ...             978.4           825.5  360\n",
              "\n",
              "[5 rows x 8 columns]"
            ]
          },
          "metadata": {},
          "execution_count": 7
        }
      ]
    },
    {
      "cell_type": "code",
      "metadata": {
        "button": false,
        "deletable": true,
        "new_sheet": false,
        "run_control": {
          "read_only": false
        },
        "colab": {
          "base_uri": "https://localhost:8080/"
        },
        "id": "ZExA3CsEIrTS",
        "outputId": "2407ed94-cec3-4d76-bcb7-176e1bdb3929"
      },
      "source": [
        "target.head()"
      ],
      "execution_count": 8,
      "outputs": [
        {
          "output_type": "execute_result",
          "data": {
            "text/plain": [
              "0    79.99\n",
              "1    61.89\n",
              "2    40.27\n",
              "3    41.05\n",
              "4    44.30\n",
              "Name: Strength, dtype: float64"
            ]
          },
          "metadata": {},
          "execution_count": 8
        }
      ]
    },
    {
      "cell_type": "markdown",
      "metadata": {
        "button": false,
        "deletable": true,
        "new_sheet": false,
        "run_control": {
          "read_only": false
        },
        "id": "Ab9KcvpqIrTS"
      },
      "source": [
        "Finally, the last step is to normalize the data by substracting the mean and dividing by the standard deviation.\n"
      ]
    },
    {
      "cell_type": "code",
      "metadata": {
        "button": false,
        "deletable": true,
        "new_sheet": false,
        "run_control": {
          "read_only": false
        },
        "colab": {
          "base_uri": "https://localhost:8080/",
          "height": 204
        },
        "id": "h-y53B-GIrTS",
        "outputId": "cb29bc8f-a0d4-4b6a-dec4-786bdafd88a7"
      },
      "source": [
        "predictors_norm = (predictors - predictors.mean()) / predictors.std()\n",
        "predictors_norm.head()"
      ],
      "execution_count": 9,
      "outputs": [
        {
          "output_type": "execute_result",
          "data": {
            "text/html": [
              "<div>\n",
              "<style scoped>\n",
              "    .dataframe tbody tr th:only-of-type {\n",
              "        vertical-align: middle;\n",
              "    }\n",
              "\n",
              "    .dataframe tbody tr th {\n",
              "        vertical-align: top;\n",
              "    }\n",
              "\n",
              "    .dataframe thead th {\n",
              "        text-align: right;\n",
              "    }\n",
              "</style>\n",
              "<table border=\"1\" class=\"dataframe\">\n",
              "  <thead>\n",
              "    <tr style=\"text-align: right;\">\n",
              "      <th></th>\n",
              "      <th>Cement</th>\n",
              "      <th>Blast Furnace Slag</th>\n",
              "      <th>Fly Ash</th>\n",
              "      <th>Water</th>\n",
              "      <th>Superplasticizer</th>\n",
              "      <th>Coarse Aggregate</th>\n",
              "      <th>Fine Aggregate</th>\n",
              "      <th>Age</th>\n",
              "    </tr>\n",
              "  </thead>\n",
              "  <tbody>\n",
              "    <tr>\n",
              "      <th>0</th>\n",
              "      <td>2.476712</td>\n",
              "      <td>-0.856472</td>\n",
              "      <td>-0.846733</td>\n",
              "      <td>-0.916319</td>\n",
              "      <td>-0.620147</td>\n",
              "      <td>0.862735</td>\n",
              "      <td>-1.217079</td>\n",
              "      <td>-0.279597</td>\n",
              "    </tr>\n",
              "    <tr>\n",
              "      <th>1</th>\n",
              "      <td>2.476712</td>\n",
              "      <td>-0.856472</td>\n",
              "      <td>-0.846733</td>\n",
              "      <td>-0.916319</td>\n",
              "      <td>-0.620147</td>\n",
              "      <td>1.055651</td>\n",
              "      <td>-1.217079</td>\n",
              "      <td>-0.279597</td>\n",
              "    </tr>\n",
              "    <tr>\n",
              "      <th>2</th>\n",
              "      <td>0.491187</td>\n",
              "      <td>0.795140</td>\n",
              "      <td>-0.846733</td>\n",
              "      <td>2.174405</td>\n",
              "      <td>-1.038638</td>\n",
              "      <td>-0.526262</td>\n",
              "      <td>-2.239829</td>\n",
              "      <td>3.551340</td>\n",
              "    </tr>\n",
              "    <tr>\n",
              "      <th>3</th>\n",
              "      <td>0.491187</td>\n",
              "      <td>0.795140</td>\n",
              "      <td>-0.846733</td>\n",
              "      <td>2.174405</td>\n",
              "      <td>-1.038638</td>\n",
              "      <td>-0.526262</td>\n",
              "      <td>-2.239829</td>\n",
              "      <td>5.055221</td>\n",
              "    </tr>\n",
              "    <tr>\n",
              "      <th>4</th>\n",
              "      <td>-0.790075</td>\n",
              "      <td>0.678079</td>\n",
              "      <td>-0.846733</td>\n",
              "      <td>0.488555</td>\n",
              "      <td>-1.038638</td>\n",
              "      <td>0.070492</td>\n",
              "      <td>0.647569</td>\n",
              "      <td>4.976069</td>\n",
              "    </tr>\n",
              "  </tbody>\n",
              "</table>\n",
              "</div>"
            ],
            "text/plain": [
              "     Cement  Blast Furnace Slag  ...  Fine Aggregate       Age\n",
              "0  2.476712           -0.856472  ...       -1.217079 -0.279597\n",
              "1  2.476712           -0.856472  ...       -1.217079 -0.279597\n",
              "2  0.491187            0.795140  ...       -2.239829  3.551340\n",
              "3  0.491187            0.795140  ...       -2.239829  5.055221\n",
              "4 -0.790075            0.678079  ...        0.647569  4.976069\n",
              "\n",
              "[5 rows x 8 columns]"
            ]
          },
          "metadata": {},
          "execution_count": 9
        }
      ]
    },
    {
      "cell_type": "markdown",
      "metadata": {
        "id": "GW-XABzRIrTT"
      },
      "source": [
        "Let's save the number of predictors to _n_cols_ since we will need this number when building our network.\n"
      ]
    },
    {
      "cell_type": "code",
      "metadata": {
        "button": false,
        "deletable": true,
        "new_sheet": false,
        "run_control": {
          "read_only": false
        },
        "id": "FVsnkOg5IrTT"
      },
      "source": [
        "n_cols = predictors_norm.shape[1] # number of predictors"
      ],
      "execution_count": 10,
      "outputs": []
    },
    {
      "cell_type": "markdown",
      "metadata": {
        "button": false,
        "deletable": true,
        "new_sheet": false,
        "run_control": {
          "read_only": false
        },
        "id": "feoml1bhIrTT"
      },
      "source": [
        "<a id=\"item1\"></a>\n"
      ]
    },
    {
      "cell_type": "markdown",
      "metadata": {
        "id": "AUEmgQSXIrTU"
      },
      "source": [
        "<a id='item32'></a>\n"
      ]
    },
    {
      "cell_type": "markdown",
      "metadata": {
        "button": false,
        "deletable": true,
        "new_sheet": false,
        "run_control": {
          "read_only": false
        },
        "id": "K_02hNU7IrTU"
      },
      "source": [
        "## Import Keras\n"
      ]
    },
    {
      "cell_type": "markdown",
      "metadata": {
        "button": false,
        "deletable": true,
        "new_sheet": false,
        "run_control": {
          "read_only": false
        },
        "id": "JqvUKYwNIrTU"
      },
      "source": [
        "Recall from the videos that Keras normally runs on top of a low-level library such as TensorFlow. This means that to be able to use the Keras library, you will have to install TensorFlow first and when you import the Keras library, it will be explicitly displayed what backend was used to install the Keras library. In CC Labs, we used TensorFlow as the backend to install Keras, so it should clearly print that when we import Keras.\n"
      ]
    },
    {
      "cell_type": "markdown",
      "metadata": {
        "button": false,
        "deletable": true,
        "new_sheet": false,
        "run_control": {
          "read_only": false
        },
        "id": "i7TeSA4zIrTX"
      },
      "source": [
        "#### Let's go ahead and import the Keras library\n"
      ]
    },
    {
      "cell_type": "code",
      "metadata": {
        "button": false,
        "deletable": true,
        "new_sheet": false,
        "run_control": {
          "read_only": false
        },
        "id": "G-RVw_RrIrTX"
      },
      "source": [
        "import keras"
      ],
      "execution_count": 11,
      "outputs": []
    },
    {
      "cell_type": "markdown",
      "metadata": {
        "button": false,
        "deletable": true,
        "new_sheet": false,
        "run_control": {
          "read_only": false
        },
        "id": "JPMwYymJIrTX"
      },
      "source": [
        "As you can see, the TensorFlow backend was used to install the Keras library.\n"
      ]
    },
    {
      "cell_type": "markdown",
      "metadata": {
        "button": false,
        "deletable": true,
        "new_sheet": false,
        "run_control": {
          "read_only": false
        },
        "id": "ZHiokI7fIrTY"
      },
      "source": [
        "Let's import the rest of the packages from the Keras library that we will need to build our regressoin model.\n"
      ]
    },
    {
      "cell_type": "code",
      "metadata": {
        "button": false,
        "deletable": true,
        "new_sheet": false,
        "run_control": {
          "read_only": false
        },
        "id": "r4RMcPmUIrTY"
      },
      "source": [
        "from keras.models import Sequential\n",
        "from keras.layers import Dense"
      ],
      "execution_count": 12,
      "outputs": []
    },
    {
      "cell_type": "markdown",
      "metadata": {
        "id": "4GxeZtwJIrTY"
      },
      "source": [
        "<a id='item33'></a>\n"
      ]
    },
    {
      "cell_type": "markdown",
      "metadata": {
        "button": false,
        "deletable": true,
        "new_sheet": false,
        "run_control": {
          "read_only": false
        },
        "id": "tNkuQN2eIrTY"
      },
      "source": [
        "## Build a Neural Network\n"
      ]
    },
    {
      "cell_type": "markdown",
      "metadata": {
        "button": false,
        "deletable": true,
        "new_sheet": false,
        "run_control": {
          "read_only": false
        },
        "id": "erxbu7zeIrTZ"
      },
      "source": [
        "Let's define a function that defines our regression model for us so that we can conveniently call it to create our model.\n"
      ]
    },
    {
      "cell_type": "code",
      "metadata": {
        "button": false,
        "deletable": true,
        "new_sheet": false,
        "run_control": {
          "read_only": false
        },
        "id": "nQQnZaXhIrTZ"
      },
      "source": [
        "# define regression model\n",
        "def regression_model():\n",
        "    # create model\n",
        "    model = Sequential()\n",
        "    model.add(Dense(50, activation='relu', input_shape=(n_cols,)))\n",
        "    model.add(Dense(50, activation='relu'))\n",
        "    model.add(Dense(1))\n",
        "    \n",
        "    # compile model\n",
        "    model.compile(optimizer='adam', loss='mean_squared_error')\n",
        "    return model"
      ],
      "execution_count": 13,
      "outputs": []
    },
    {
      "cell_type": "markdown",
      "metadata": {
        "id": "vxW-Z_QIIrTZ"
      },
      "source": [
        "The above function create a model that has two hidden layers, each of 50 hidden units.\n"
      ]
    },
    {
      "cell_type": "markdown",
      "metadata": {
        "button": false,
        "deletable": true,
        "new_sheet": false,
        "run_control": {
          "read_only": false
        },
        "id": "pTnZJFyQIrTZ"
      },
      "source": [
        "<a id=\"item4\"></a>\n"
      ]
    },
    {
      "cell_type": "markdown",
      "metadata": {
        "id": "h14-KO9eIrTZ"
      },
      "source": [
        "<a id='item34'></a>\n"
      ]
    },
    {
      "cell_type": "markdown",
      "metadata": {
        "button": false,
        "deletable": true,
        "new_sheet": false,
        "run_control": {
          "read_only": false
        },
        "id": "EiWALenkIrTa"
      },
      "source": [
        "## Train and Test the Network\n"
      ]
    },
    {
      "cell_type": "markdown",
      "metadata": {
        "id": "MPzfPWxrIrTa"
      },
      "source": [
        "Let's call the function now to create our model.\n"
      ]
    },
    {
      "cell_type": "code",
      "metadata": {
        "button": false,
        "deletable": true,
        "new_sheet": false,
        "run_control": {
          "read_only": false
        },
        "id": "7_JfOeChIrTa"
      },
      "source": [
        "# build the model\n",
        "model = regression_model()"
      ],
      "execution_count": 14,
      "outputs": []
    },
    {
      "cell_type": "markdown",
      "metadata": {
        "id": "Jutcx_SWIrTa"
      },
      "source": [
        "Next, we will train and test the model at the same time using the _fit_ method. We will leave out 30% of the data for validation and we will train the model for 100 epochs.\n"
      ]
    },
    {
      "cell_type": "code",
      "metadata": {
        "colab": {
          "base_uri": "https://localhost:8080/"
        },
        "id": "UuD_QfmlIrTa",
        "outputId": "74e9ff9b-577b-4a41-fd24-efa077ec1cc8"
      },
      "source": [
        "# fit the model\n",
        "model.fit(predictors_norm, target, validation_split=0.3, epochs=100, verbose=2)"
      ],
      "execution_count": 15,
      "outputs": [
        {
          "output_type": "stream",
          "text": [
            "Epoch 1/100\n",
            "23/23 - 1s - loss: 1639.7726 - val_loss: 1138.1516\n",
            "Epoch 2/100\n",
            "23/23 - 0s - loss: 1504.0255 - val_loss: 993.2841\n",
            "Epoch 3/100\n",
            "23/23 - 0s - loss: 1259.9840 - val_loss: 757.0330\n",
            "Epoch 4/100\n",
            "23/23 - 0s - loss: 882.6635 - val_loss: 474.9170\n",
            "Epoch 5/100\n",
            "23/23 - 0s - loss: 500.8409 - val_loss: 255.9541\n",
            "Epoch 6/100\n",
            "23/23 - 0s - loss: 288.2675 - val_loss: 187.2830\n",
            "Epoch 7/100\n",
            "23/23 - 0s - loss: 241.5674 - val_loss: 172.0310\n",
            "Epoch 8/100\n",
            "23/23 - 0s - loss: 226.0409 - val_loss: 169.9369\n",
            "Epoch 9/100\n",
            "23/23 - 0s - loss: 214.6726 - val_loss: 165.1435\n",
            "Epoch 10/100\n",
            "23/23 - 0s - loss: 204.5154 - val_loss: 163.8190\n",
            "Epoch 11/100\n",
            "23/23 - 0s - loss: 196.5372 - val_loss: 159.8656\n",
            "Epoch 12/100\n",
            "23/23 - 0s - loss: 189.2916 - val_loss: 156.9990\n",
            "Epoch 13/100\n",
            "23/23 - 0s - loss: 183.7018 - val_loss: 153.4903\n",
            "Epoch 14/100\n",
            "23/23 - 0s - loss: 178.3442 - val_loss: 156.0943\n",
            "Epoch 15/100\n",
            "23/23 - 0s - loss: 174.1120 - val_loss: 152.6505\n",
            "Epoch 16/100\n",
            "23/23 - 0s - loss: 169.1753 - val_loss: 151.6021\n",
            "Epoch 17/100\n",
            "23/23 - 0s - loss: 165.9112 - val_loss: 150.3157\n",
            "Epoch 18/100\n",
            "23/23 - 0s - loss: 162.8809 - val_loss: 149.5863\n",
            "Epoch 19/100\n",
            "23/23 - 0s - loss: 160.4056 - val_loss: 148.5613\n",
            "Epoch 20/100\n",
            "23/23 - 0s - loss: 157.6418 - val_loss: 149.7820\n",
            "Epoch 21/100\n",
            "23/23 - 0s - loss: 154.0912 - val_loss: 150.4006\n",
            "Epoch 22/100\n",
            "23/23 - 0s - loss: 152.2287 - val_loss: 151.2281\n",
            "Epoch 23/100\n",
            "23/23 - 0s - loss: 150.0941 - val_loss: 150.3418\n",
            "Epoch 24/100\n",
            "23/23 - 0s - loss: 149.9353 - val_loss: 150.2610\n",
            "Epoch 25/100\n",
            "23/23 - 0s - loss: 146.8411 - val_loss: 151.3096\n",
            "Epoch 26/100\n",
            "23/23 - 0s - loss: 145.1015 - val_loss: 152.2352\n",
            "Epoch 27/100\n",
            "23/23 - 0s - loss: 143.9489 - val_loss: 153.7802\n",
            "Epoch 28/100\n",
            "23/23 - 0s - loss: 141.6744 - val_loss: 151.9422\n",
            "Epoch 29/100\n",
            "23/23 - 0s - loss: 140.8652 - val_loss: 150.9893\n",
            "Epoch 30/100\n",
            "23/23 - 0s - loss: 139.7643 - val_loss: 154.3392\n",
            "Epoch 31/100\n",
            "23/23 - 0s - loss: 138.5177 - val_loss: 154.1569\n",
            "Epoch 32/100\n",
            "23/23 - 0s - loss: 137.3279 - val_loss: 155.5819\n",
            "Epoch 33/100\n",
            "23/23 - 0s - loss: 136.3514 - val_loss: 155.8237\n",
            "Epoch 34/100\n",
            "23/23 - 0s - loss: 135.4255 - val_loss: 157.8446\n",
            "Epoch 35/100\n",
            "23/23 - 0s - loss: 134.2813 - val_loss: 156.9795\n",
            "Epoch 36/100\n",
            "23/23 - 0s - loss: 133.7504 - val_loss: 158.5804\n",
            "Epoch 37/100\n",
            "23/23 - 0s - loss: 132.4422 - val_loss: 157.8630\n",
            "Epoch 38/100\n",
            "23/23 - 0s - loss: 131.7808 - val_loss: 160.5119\n",
            "Epoch 39/100\n",
            "23/23 - 0s - loss: 130.3576 - val_loss: 160.1150\n",
            "Epoch 40/100\n",
            "23/23 - 0s - loss: 130.0123 - val_loss: 158.5367\n",
            "Epoch 41/100\n",
            "23/23 - 0s - loss: 128.6241 - val_loss: 161.9372\n",
            "Epoch 42/100\n",
            "23/23 - 0s - loss: 128.2750 - val_loss: 159.0682\n",
            "Epoch 43/100\n",
            "23/23 - 0s - loss: 127.4408 - val_loss: 160.0988\n",
            "Epoch 44/100\n",
            "23/23 - 0s - loss: 126.5003 - val_loss: 161.9014\n",
            "Epoch 45/100\n",
            "23/23 - 0s - loss: 124.8042 - val_loss: 161.6295\n",
            "Epoch 46/100\n",
            "23/23 - 0s - loss: 123.8315 - val_loss: 161.7688\n",
            "Epoch 47/100\n",
            "23/23 - 0s - loss: 122.9382 - val_loss: 161.8734\n",
            "Epoch 48/100\n",
            "23/23 - 0s - loss: 122.2611 - val_loss: 160.3367\n",
            "Epoch 49/100\n",
            "23/23 - 0s - loss: 121.2844 - val_loss: 163.5864\n",
            "Epoch 50/100\n",
            "23/23 - 0s - loss: 121.4255 - val_loss: 159.8838\n",
            "Epoch 51/100\n",
            "23/23 - 0s - loss: 119.0879 - val_loss: 165.1737\n",
            "Epoch 52/100\n",
            "23/23 - 0s - loss: 118.5132 - val_loss: 159.2757\n",
            "Epoch 53/100\n",
            "23/23 - 0s - loss: 116.7044 - val_loss: 159.8172\n",
            "Epoch 54/100\n",
            "23/23 - 0s - loss: 115.4836 - val_loss: 160.9157\n",
            "Epoch 55/100\n",
            "23/23 - 0s - loss: 115.0466 - val_loss: 162.8276\n",
            "Epoch 56/100\n",
            "23/23 - 0s - loss: 113.4825 - val_loss: 154.2875\n",
            "Epoch 57/100\n",
            "23/23 - 0s - loss: 111.0225 - val_loss: 159.2928\n",
            "Epoch 58/100\n",
            "23/23 - 0s - loss: 109.7599 - val_loss: 157.4793\n",
            "Epoch 59/100\n",
            "23/23 - 0s - loss: 107.2509 - val_loss: 155.6980\n",
            "Epoch 60/100\n",
            "23/23 - 0s - loss: 105.6331 - val_loss: 155.5832\n",
            "Epoch 61/100\n",
            "23/23 - 0s - loss: 103.6080 - val_loss: 151.0301\n",
            "Epoch 62/100\n",
            "23/23 - 0s - loss: 101.7145 - val_loss: 154.1241\n",
            "Epoch 63/100\n",
            "23/23 - 0s - loss: 99.3010 - val_loss: 149.1097\n",
            "Epoch 64/100\n",
            "23/23 - 0s - loss: 97.0050 - val_loss: 153.2734\n",
            "Epoch 65/100\n",
            "23/23 - 0s - loss: 94.9502 - val_loss: 153.1591\n",
            "Epoch 66/100\n",
            "23/23 - 0s - loss: 92.1371 - val_loss: 144.7092\n",
            "Epoch 67/100\n",
            "23/23 - 0s - loss: 89.4875 - val_loss: 152.8826\n",
            "Epoch 68/100\n",
            "23/23 - 0s - loss: 87.1065 - val_loss: 148.7472\n",
            "Epoch 69/100\n",
            "23/23 - 0s - loss: 84.8779 - val_loss: 140.4906\n",
            "Epoch 70/100\n",
            "23/23 - 0s - loss: 82.4156 - val_loss: 143.4485\n",
            "Epoch 71/100\n",
            "23/23 - 0s - loss: 80.1186 - val_loss: 144.3190\n",
            "Epoch 72/100\n",
            "23/23 - 0s - loss: 78.0120 - val_loss: 149.7491\n",
            "Epoch 73/100\n",
            "23/23 - 0s - loss: 76.2971 - val_loss: 142.5778\n",
            "Epoch 74/100\n",
            "23/23 - 0s - loss: 73.7792 - val_loss: 145.7501\n",
            "Epoch 75/100\n",
            "23/23 - 0s - loss: 71.7132 - val_loss: 142.8671\n",
            "Epoch 76/100\n",
            "23/23 - 0s - loss: 69.3605 - val_loss: 136.3062\n",
            "Epoch 77/100\n",
            "23/23 - 0s - loss: 67.3276 - val_loss: 138.7403\n",
            "Epoch 78/100\n",
            "23/23 - 0s - loss: 64.7359 - val_loss: 139.5733\n",
            "Epoch 79/100\n",
            "23/23 - 0s - loss: 62.2401 - val_loss: 139.7696\n",
            "Epoch 80/100\n",
            "23/23 - 0s - loss: 60.7954 - val_loss: 140.0618\n",
            "Epoch 81/100\n",
            "23/23 - 0s - loss: 58.2396 - val_loss: 136.2602\n",
            "Epoch 82/100\n",
            "23/23 - 0s - loss: 56.6212 - val_loss: 143.1008\n",
            "Epoch 83/100\n",
            "23/23 - 0s - loss: 55.0192 - val_loss: 138.9196\n",
            "Epoch 84/100\n",
            "23/23 - 0s - loss: 54.0595 - val_loss: 135.0791\n",
            "Epoch 85/100\n",
            "23/23 - 0s - loss: 52.3952 - val_loss: 138.8731\n",
            "Epoch 86/100\n",
            "23/23 - 0s - loss: 50.7681 - val_loss: 143.8590\n",
            "Epoch 87/100\n",
            "23/23 - 0s - loss: 49.3525 - val_loss: 141.4808\n",
            "Epoch 88/100\n",
            "23/23 - 0s - loss: 48.2529 - val_loss: 146.8226\n",
            "Epoch 89/100\n",
            "23/23 - 0s - loss: 46.9232 - val_loss: 149.9077\n",
            "Epoch 90/100\n",
            "23/23 - 0s - loss: 46.4618 - val_loss: 145.2121\n",
            "Epoch 91/100\n",
            "23/23 - 0s - loss: 45.2556 - val_loss: 150.6873\n",
            "Epoch 92/100\n",
            "23/23 - 0s - loss: 44.1271 - val_loss: 147.0070\n",
            "Epoch 93/100\n",
            "23/23 - 0s - loss: 43.5951 - val_loss: 155.7046\n",
            "Epoch 94/100\n",
            "23/23 - 0s - loss: 43.2599 - val_loss: 159.6117\n",
            "Epoch 95/100\n",
            "23/23 - 0s - loss: 43.0149 - val_loss: 146.3112\n",
            "Epoch 96/100\n",
            "23/23 - 0s - loss: 42.1839 - val_loss: 146.7869\n",
            "Epoch 97/100\n",
            "23/23 - 0s - loss: 40.8790 - val_loss: 149.6311\n",
            "Epoch 98/100\n",
            "23/23 - 0s - loss: 40.5831 - val_loss: 148.4713\n",
            "Epoch 99/100\n",
            "23/23 - 0s - loss: 40.2184 - val_loss: 161.3085\n",
            "Epoch 100/100\n",
            "23/23 - 0s - loss: 39.8618 - val_loss: 151.5589\n"
          ],
          "name": "stdout"
        },
        {
          "output_type": "execute_result",
          "data": {
            "text/plain": [
              "<keras.callbacks.History at 0x7f8964a91510>"
            ]
          },
          "metadata": {},
          "execution_count": 15
        }
      ]
    },
    {
      "cell_type": "markdown",
      "metadata": {
        "button": false,
        "deletable": true,
        "new_sheet": false,
        "run_control": {
          "read_only": false
        },
        "id": "ro3YyM0EIrTb"
      },
      "source": [
        "<strong>You can refer to this [link](https://keras.io/models/sequential?cm_mmc=Email_Newsletter-_-Developer_Ed%2BTech-_-WW_WW-_-SkillsNetwork-Courses-IBMDeveloperSkillsNetwork-DL0101EN-SkillsNetwork-20718188&cm_mmca1=000026UJ&cm_mmca2=10006555&cm_mmca3=M12345678&cvosrc=email.Newsletter.M12345678&cvo_campaign=000026UJ&cm_mmc=Email_Newsletter-_-Developer_Ed%2BTech-_-WW_WW-_-SkillsNetwork-Courses-IBMDeveloperSkillsNetwork-DL0101EN-SkillsNetwork-20718188&cm_mmca1=000026UJ&cm_mmca2=10006555&cm_mmca3=M12345678&cvosrc=email.Newsletter.M12345678&cvo_campaign=000026UJ&cm_mmc=Email_Newsletter-_-Developer_Ed%2BTech-_-WW_WW-_-SkillsNetwork-Courses-IBMDeveloperSkillsNetwork-DL0101EN-SkillsNetwork-20718188&cm_mmca1=000026UJ&cm_mmca2=10006555&cm_mmca3=M12345678&cvosrc=email.Newsletter.M12345678&cvo_campaign=000026UJ) to learn about other functions that you can use for prediction or evaluation.</strong>\n"
      ]
    },
    {
      "cell_type": "markdown",
      "metadata": {
        "button": false,
        "deletable": true,
        "new_sheet": false,
        "run_control": {
          "read_only": false
        },
        "id": "MbI2aAPcIrTb"
      },
      "source": [
        "Feel free to vary the following and note what impact each change has on the model's performance:\n",
        "\n",
        "1.  Increase or decreate number of neurons in hidden layers\n",
        "2.  Add more hidden layers\n",
        "3.  Increase number of epochs\n"
      ]
    },
    {
      "cell_type": "markdown",
      "metadata": {
        "button": false,
        "deletable": true,
        "new_sheet": false,
        "run_control": {
          "read_only": false
        },
        "id": "yCaztEubIrTb"
      },
      "source": [
        "### Thank you for completing this lab!\n",
        "\n",
        "This notebook was created by [Alex Aklson](https://www.linkedin.com/in/aklson?cm_mmc=Email_Newsletter-_-Developer_Ed%2BTech-_-WW_WW-_-SkillsNetwork-Courses-IBMDeveloperSkillsNetwork-DL0101EN-SkillsNetwork-20718188&cm_mmca1=000026UJ&cm_mmca2=10006555&cm_mmca3=M12345678&cvosrc=email.Newsletter.M12345678&cvo_campaign=000026UJ&cm_mmc=Email_Newsletter-_-Developer_Ed%2BTech-_-WW_WW-_-SkillsNetwork-Courses-IBMDeveloperSkillsNetwork-DL0101EN-SkillsNetwork-20718188&cm_mmca1=000026UJ&cm_mmca2=10006555&cm_mmca3=M12345678&cvosrc=email.Newsletter.M12345678&cvo_campaign=000026UJ). I hope you found this lab interesting and educational. Feel free to contact me if you have any questions!\n"
      ]
    },
    {
      "cell_type": "markdown",
      "metadata": {
        "id": "yAs9GxgxIrTb"
      },
      "source": [
        "## Change Log\n",
        "\n",
        "| Date (YYYY-MM-DD) | Version | Changed By | Change Description                                          |\n",
        "| ----------------- | ------- | ---------- | ----------------------------------------------------------- |\n",
        "| 2020-09-21        | 2.0     | Srishti    | Migrated Lab to Markdown and added to course repo in GitLab |\n",
        "\n",
        "<hr>\n",
        "\n",
        "## <h3 align=\"center\"> © IBM Corporation 2020. All rights reserved. <h3/>\n"
      ]
    },
    {
      "cell_type": "markdown",
      "metadata": {
        "button": false,
        "deletable": true,
        "new_sheet": false,
        "run_control": {
          "read_only": false
        },
        "id": "F6O-BrB7IrTc"
      },
      "source": [
        "This notebook is part of a course on **Coursera** called _Introduction to Deep Learning & Neural Networks with Keras_. If you accessed this notebook outside the course, you can take this course online by clicking [here](https://cocl.us/DL0101EN_Coursera_Week3_LAB1).\n"
      ]
    },
    {
      "cell_type": "markdown",
      "metadata": {
        "button": false,
        "deletable": true,
        "new_sheet": false,
        "run_control": {
          "read_only": false
        },
        "id": "uwxkZlFKIrTc"
      },
      "source": [
        "<hr>\n",
        "\n",
        "Copyright © 2019 [IBM Developer Skills Network](https://cognitiveclass.ai?utm_source=bducopyrightlink&utm_medium=dswb&utm_campaign=bdu&cm_mmc=Email_Newsletter-_-Developer_Ed%2BTech-_-WW_WW-_-SkillsNetwork-Courses-IBMDeveloperSkillsNetwork-DL0101EN-SkillsNetwork-20718188&cm_mmca1=000026UJ&cm_mmca2=10006555&cm_mmca3=M12345678&cvosrc=email.Newsletter.M12345678&cvo_campaign=000026UJ&cm_mmc=Email_Newsletter-_-Developer_Ed%2BTech-_-WW_WW-_-SkillsNetwork-Courses-IBMDeveloperSkillsNetwork-DL0101EN-SkillsNetwork-20718188&cm_mmca1=000026UJ&cm_mmca2=10006555&cm_mmca3=M12345678&cvosrc=email.Newsletter.M12345678&cvo_campaign=000026UJ&cm_mmc=Email_Newsletter-_-Developer_Ed%2BTech-_-WW_WW-_-SkillsNetwork-Courses-IBMDeveloperSkillsNetwork-DL0101EN-SkillsNetwork-20718188&cm_mmca1=000026UJ&cm_mmca2=10006555&cm_mmca3=M12345678&cvosrc=email.Newsletter.M12345678&cvo_campaign=000026UJ&cm_mmc=Email_Newsletter-_-Developer_Ed%2BTech-_-WW_WW-_-SkillsNetwork-Courses-IBMDeveloperSkillsNetwork-DL0101EN-SkillsNetwork-20718188&cm_mmca1=000026UJ&cm_mmca2=10006555&cm_mmca3=M12345678&cvosrc=email.Newsletter.M12345678&cvo_campaign=000026UJ). This notebook and its source code are released under the terms of the [MIT License](https://bigdatauniversity.com/mit-license?cm_mmc=Email_Newsletter-_-Developer_Ed%2BTech-_-WW_WW-_-SkillsNetwork-Courses-IBMDeveloperSkillsNetwork-DL0101EN-SkillsNetwork-20718188&cm_mmca1=000026UJ&cm_mmca2=10006555&cm_mmca3=M12345678&cvosrc=email.Newsletter.M12345678&cvo_campaign=000026UJ&cm_mmc=Email_Newsletter-_-Developer_Ed%2BTech-_-WW_WW-_-SkillsNetwork-Courses-IBMDeveloperSkillsNetwork-DL0101EN-SkillsNetwork-20718188&cm_mmca1=000026UJ&cm_mmca2=10006555&cm_mmca3=M12345678&cvosrc=email.Newsletter.M12345678&cvo_campaign=000026UJ).\n"
      ]
    }
  ]
}